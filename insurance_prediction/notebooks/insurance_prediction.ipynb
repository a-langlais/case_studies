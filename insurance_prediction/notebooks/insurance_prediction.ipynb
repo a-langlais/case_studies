{
 "cells": [
  {
   "cell_type": "code",
   "execution_count": null,
   "metadata": {},
   "outputs": [],
   "source": [
    "import pandas as pd\n",
    "data = pd.read_csv(\"TravelInsurancePrediction.csv\")\n",
    "data.head()"
   ]
  },
  {
   "cell_type": "code",
   "execution_count": null,
   "metadata": {},
   "outputs": [],
   "source": [
    "data.drop(columns=[\"Unnamed: 0\"], inplace=True)"
   ]
  },
  {
   "cell_type": "code",
   "execution_count": null,
   "metadata": {},
   "outputs": [],
   "source": [
    "data.isnull().sum()"
   ]
  },
  {
   "cell_type": "code",
   "execution_count": null,
   "metadata": {},
   "outputs": [],
   "source": [
    "data.info()"
   ]
  },
  {
   "cell_type": "code",
   "execution_count": null,
   "metadata": {},
   "outputs": [],
   "source": [
    "data[\"TravelInsurance\"] = data[\"TravelInsurance\"].map({0: \"Not Purchased\", 1: \"Purchased\"})"
   ]
  },
  {
   "cell_type": "code",
   "execution_count": null,
   "metadata": {},
   "outputs": [],
   "source": [
    "import plotly.express as px\n",
    "data = data\n",
    "figure = px.histogram(data, x = \"Age\", \n",
    "                      color = \"TravelInsurance\", \n",
    "                      title= \"Factors Affecting Purchase of Travel Insurance: Age\")\n",
    "figure.show()"
   ]
  },
  {
   "cell_type": "code",
   "execution_count": null,
   "metadata": {},
   "outputs": [],
   "source": [
    "import plotly.express as px\n",
    "data = data\n",
    "figure = px.histogram(data, x = \"Employment Type\", \n",
    "                      color = \"TravelInsurance\", \n",
    "                      title= \"Factors Affecting Purchase of Travel Insurance: Employment Type\")\n",
    "figure.show()"
   ]
  },
  {
   "cell_type": "code",
   "execution_count": null,
   "metadata": {},
   "outputs": [],
   "source": [
    "import plotly.express as px\n",
    "data = data\n",
    "figure = px.histogram(data, x = \"AnnualIncome\", \n",
    "                      color = \"TravelInsurance\", \n",
    "                      title= \"Factors Affecting Purchase of Travel Insurance: Income\")\n",
    "figure.show()"
   ]
  },
  {
   "cell_type": "code",
   "execution_count": null,
   "metadata": {},
   "outputs": [],
   "source": [
    "import numpy as np\n",
    "data[\"GraduateOrNot\"] = data[\"GraduateOrNot\"].map({\"No\": 0, \"Yes\": 1})\n",
    "data[\"FrequentFlyer\"] = data[\"FrequentFlyer\"].map({\"No\": 0, \"Yes\": 1})\n",
    "data[\"EverTravelledAbroad\"] = data[\"EverTravelledAbroad\"].map({\"No\": 0, \"Yes\": 1})\n",
    "x = np.array(data[[\"Age\", \"GraduateOrNot\", \n",
    "                   \"AnnualIncome\", \"FamilyMembers\", \n",
    "                   \"ChronicDiseases\", \"FrequentFlyer\", \n",
    "                   \"EverTravelledAbroad\"]])\n",
    "y = np.array(data[[\"TravelInsurance\"]])"
   ]
  },
  {
   "cell_type": "code",
   "execution_count": null,
   "metadata": {},
   "outputs": [],
   "source": [
    "from sklearn.model_selection import train_test_split\n",
    "from sklearn.tree import DecisionTreeClassifier\n",
    "xtrain, xtest, ytrain, ytest = train_test_split(x, y, test_size=0.10, random_state=42)\n",
    "model = DecisionTreeClassifier()\n",
    "model.fit(xtrain, ytrain)\n",
    "predictions = model.predict(xtest)"
   ]
  }
 ],
 "metadata": {
  "language_info": {
   "name": "python"
  }
 },
 "nbformat": 4,
 "nbformat_minor": 2
}
